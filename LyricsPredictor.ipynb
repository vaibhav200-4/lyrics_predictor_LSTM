{
  "cells": [
    {
      "cell_type": "code",
      "execution_count": 2,
      "metadata": {
        "id": "W25VSv5ujKTX"
      },
      "outputs": [
        {
          "name": "stdout",
          "output_type": "stream",
          "text": [
            "WARNING:tensorflow:From c:\\Users\\HP\\AppData\\Local\\Programs\\Python\\Python311\\Lib\\site-packages\\keras\\src\\losses.py:2976: The name tf.losses.sparse_softmax_cross_entropy is deprecated. Please use tf.compat.v1.losses.sparse_softmax_cross_entropy instead.\n",
            "\n"
          ]
        }
      ],
      "source": [
        "from tensorflow.keras.preprocessing.text import Tokenizer\n",
        "from tensorflow.keras.models import Sequential\n",
        "from tensorflow.keras.layers import Bidirectional,Embedding,LSTM,Dense,Dropout\n",
        "from tensorflow.keras.optimizers import Adam\n",
        "import tensorflow as tf\n",
        "import numpy as np\n"
      ]
    },
    {
      "cell_type": "markdown",
      "metadata": {
        "id": "zOaL3mfhlWDU"
      },
      "source": [
        "Input data and preprocessing"
      ]
    },
    {
      "cell_type": "code",
      "execution_count": 3,
      "metadata": {
        "id": "g5VSvIoCkzIV"
      },
      "outputs": [],
      "source": [
        "tokenizer=Tokenizer()\n",
        "\n",
        "data='''\n",
        "You’re glowing\n",
        "You colour and fracture the light\n",
        "You can’t help but shine\n",
        "And I know that\n",
        "You carry the world on your back\n",
        "But look at you tonight\n",
        "The lights, your face, your eyes\n",
        "Exploding like fireworks in the sky\n",
        "Sapphire\n",
        "Touching on your body while you’re pushing on me\n",
        "Don’t you end the party, I could do this all week\n",
        "We’ll be dancing till the morning, go to bed, we won’t sleep\n",
        "Cham-Cham Chamke Sitaare Vargi (Sapphire)\n",
        "Look what we found, Karma reached out\n",
        "Into our hearts and pulled us to our feet now\n",
        "You know, the truth is we could disappear\n",
        "Anywhere, as long as I got you there\n",
        "When the sun dies, till the day shines\n",
        "When I’m with you, there’s not enough time\n",
        "You are my spring flower, watching you bloom, wow\n",
        "We are surrounded, but I can only see\n",
        "The lights, your face, your eyes\n",
        "Exploding like fireworks in the sky\n",
        "Sapphire\n",
        "Touching on your body while you’re pushing on me\n",
        "Don’t you end the party, I could do this all week\n",
        "We’ll be dancin’ till the morning, go to bed, we won’t sleep\n",
        "Cham-Cham Chamke Sitaare Vargi (Sapphire)\n",
        "Mahurani Do Nain Lubhaye\n",
        "Chandni Cham Cham Chamkaye (You’re glowing)\n",
        "Noor Da Mainu Ghunt Pilaye\n",
        "Jindri Ban Jaye\n",
        "You’re glowing\n",
        "You colour and fracture the light\n",
        "Look at you tonight\n",
        "Sapphire\n",
        "Palkaan Uthavate Hanere Ghatde\n",
        "Ungla Ch Pake Tu Dhanak Phirdi\n",
        "Kive Rabb Ne Do Naina Ute Neelam Jare\n",
        "Cham-Cham Chamke Sitaare Vargi (Sapphire)\n",
        "Touching on your body while you’re pushing on me\n",
        "Don’t you end the party, I could do this all week\n",
        "We’ll be dancing till the morning, go to bed, we won’t sleep\n",
        "Cham-Cham Chamke Sitaare Vargi (Sapphire)\n",
        "Touching on your body while you’re pushing on me (The lights, your face, your eyes)\n",
        "Don’t you end the party, I could do this all week (Exploding)\n",
        "We’ll be dancing till the morning, go to bed, we won’t sleep (Like fireworks in the sky)\n",
        "Cham-Cham Chamke Sitaare Vargi (Sapphire)\n",
        "The lights, your face, your eyes\n",
        "Exploding like fireworks in the sky\n",
        "Sapphire\n",
        "\n",
        "'''"
      ]
    },
    {
      "cell_type": "code",
      "execution_count": 4,
      "metadata": {
        "id": "a8arEUBolxpl"
      },
      "outputs": [],
      "source": [
        "corpus = data.lower().split()"
      ]
    },
    {
      "cell_type": "code",
      "execution_count": 5,
      "metadata": {
        "colab": {
          "base_uri": "https://localhost:8080/"
        },
        "id": "k3nRphwzl5TK",
        "outputId": "dc61b8ad-b2fc-45ce-aebf-9afea08eb24d"
      },
      "outputs": [
        {
          "name": "stdout",
          "output_type": "stream",
          "text": [
            "['you’re', 'glowing', 'you', 'colour', 'and', 'fracture', 'the', 'light', 'you', 'can’t', 'help', 'but', 'shine', 'and', 'i', 'know', 'that', 'you', 'carry', 'the', 'world', 'on', 'your', 'back', 'but', 'look', 'at', 'you', 'tonight', 'the', 'lights,', 'your', 'face,', 'your', 'eyes', 'exploding', 'like', 'fireworks', 'in', 'the', 'sky', 'sapphire', 'touching', 'on', 'your', 'body', 'while', 'you’re', 'pushing', 'on', 'me', 'don’t', 'you', 'end', 'the', 'party,', 'i', 'could', 'do', 'this', 'all', 'week', 'we’ll', 'be', 'dancing', 'till', 'the', 'morning,', 'go', 'to', 'bed,', 'we', 'won’t', 'sleep', 'cham-cham', 'chamke', 'sitaare', 'vargi', '(sapphire)', 'look', 'what', 'we', 'found,', 'karma', 'reached', 'out', 'into', 'our', 'hearts', 'and', 'pulled', 'us', 'to', 'our', 'feet', 'now', 'you', 'know,', 'the', 'truth', 'is', 'we', 'could', 'disappear', 'anywhere,', 'as', 'long', 'as', 'i', 'got', 'you', 'there', 'when', 'the', 'sun', 'dies,', 'till', 'the', 'day', 'shines', 'when', 'i’m', 'with', 'you,', 'there’s', 'not', 'enough', 'time', 'you', 'are', 'my', 'spring', 'flower,', 'watching', 'you', 'bloom,', 'wow', 'we', 'are', 'surrounded,', 'but', 'i', 'can', 'only', 'see', 'the', 'lights,', 'your', 'face,', 'your', 'eyes', 'exploding', 'like', 'fireworks', 'in', 'the', 'sky', 'sapphire', 'touching', 'on', 'your', 'body', 'while', 'you’re', 'pushing', 'on', 'me', 'don’t', 'you', 'end', 'the', 'party,', 'i', 'could', 'do', 'this', 'all', 'week', 'we’ll', 'be', 'dancin’', 'till', 'the', 'morning,', 'go', 'to', 'bed,', 'we', 'won’t', 'sleep', 'cham-cham', 'chamke', 'sitaare', 'vargi', '(sapphire)', 'mahurani', 'do', 'nain', 'lubhaye', 'chandni', 'cham', 'cham', 'chamkaye', '(you’re', 'glowing)', 'noor', 'da', 'mainu', 'ghunt', 'pilaye', 'jindri', 'ban', 'jaye', 'you’re', 'glowing', 'you', 'colour', 'and', 'fracture', 'the', 'light', 'look', 'at', 'you', 'tonight', 'sapphire', 'palkaan', 'uthavate', 'hanere', 'ghatde', 'ungla', 'ch', 'pake', 'tu', 'dhanak', 'phirdi', 'kive', 'rabb', 'ne', 'do', 'naina', 'ute', 'neelam', 'jare', 'cham-cham', 'chamke', 'sitaare', 'vargi', '(sapphire)', 'touching', 'on', 'your', 'body', 'while', 'you’re', 'pushing', 'on', 'me', 'don’t', 'you', 'end', 'the', 'party,', 'i', 'could', 'do', 'this', 'all', 'week', 'we’ll', 'be', 'dancing', 'till', 'the', 'morning,', 'go', 'to', 'bed,', 'we', 'won’t', 'sleep', 'cham-cham', 'chamke', 'sitaare', 'vargi', '(sapphire)', 'touching', 'on', 'your', 'body', 'while', 'you’re', 'pushing', 'on', 'me', '(the', 'lights,', 'your', 'face,', 'your', 'eyes)', 'don’t', 'you', 'end', 'the', 'party,', 'i', 'could', 'do', 'this', 'all', 'week', '(exploding)', 'we’ll', 'be', 'dancing', 'till', 'the', 'morning,', 'go', 'to', 'bed,', 'we', 'won’t', 'sleep', '(like', 'fireworks', 'in', 'the', 'sky)', 'cham-cham', 'chamke', 'sitaare', 'vargi', '(sapphire)', 'the', 'lights,', 'your', 'face,', 'your', 'eyes', 'exploding', 'like', 'fireworks', 'in', 'the', 'sky', 'sapphire']\n"
          ]
        }
      ],
      "source": [
        "print(corpus)"
      ]
    },
    {
      "cell_type": "code",
      "execution_count": 6,
      "metadata": {
        "colab": {
          "base_uri": "https://localhost:8080/"
        },
        "id": "2lpBmpOsmzJQ",
        "outputId": "62f95140-2149-45f8-fc83-406426cf759c"
      },
      "outputs": [
        {
          "name": "stdout",
          "output_type": "stream",
          "text": [
            "{'the': 1, 'you': 2, 'your': 3, 'cham': 4, 'on': 5, 'sapphire': 6, 'you’re': 7, 'i': 8, 'we': 9, 'do': 10, 'could': 11, 'till': 12, 'to': 13, 'chamke': 14, 'sitaare': 15, 'vargi': 16, 'and': 17, 'lights': 18, 'face': 19, 'eyes': 20, 'exploding': 21, 'like': 22, 'fireworks': 23, 'in': 24, 'sky': 25, 'touching': 26, 'body': 27, 'while': 28, 'pushing': 29, 'me': 30, 'don’t': 31, 'end': 32, 'party': 33, 'this': 34, 'all': 35, 'week': 36, 'we’ll': 37, 'be': 38, 'morning': 39, 'go': 40, 'bed': 41, 'won’t': 42, 'sleep': 43, 'glowing': 44, 'but': 45, 'look': 46, 'dancing': 47, 'colour': 48, 'fracture': 49, 'light': 50, 'know': 51, 'at': 52, 'tonight': 53, 'our': 54, 'as': 55, 'when': 56, 'are': 57, 'can’t': 58, 'help': 59, 'shine': 60, 'that': 61, 'carry': 62, 'world': 63, 'back': 64, 'what': 65, 'found': 66, 'karma': 67, 'reached': 68, 'out': 69, 'into': 70, 'hearts': 71, 'pulled': 72, 'us': 73, 'feet': 74, 'now': 75, 'truth': 76, 'is': 77, 'disappear': 78, 'anywhere': 79, 'long': 80, 'got': 81, 'there': 82, 'sun': 83, 'dies': 84, 'day': 85, 'shines': 86, 'i’m': 87, 'with': 88, 'there’s': 89, 'not': 90, 'enough': 91, 'time': 92, 'my': 93, 'spring': 94, 'flower': 95, 'watching': 96, 'bloom': 97, 'wow': 98, 'surrounded': 99, 'can': 100, 'only': 101, 'see': 102, 'dancin’': 103, 'mahurani': 104, 'nain': 105, 'lubhaye': 106, 'chandni': 107, 'chamkaye': 108, 'noor': 109, 'da': 110, 'mainu': 111, 'ghunt': 112, 'pilaye': 113, 'jindri': 114, 'ban': 115, 'jaye': 116, 'palkaan': 117, 'uthavate': 118, 'hanere': 119, 'ghatde': 120, 'ungla': 121, 'ch': 122, 'pake': 123, 'tu': 124, 'dhanak': 125, 'phirdi': 126, 'kive': 127, 'rabb': 128, 'ne': 129, 'naina': 130, 'ute': 131, 'neelam': 132, 'jare': 133}\n",
            "134\n"
          ]
        }
      ],
      "source": [
        "tokenizer.fit_on_texts(corpus)\n",
        "total_words=len(tokenizer.word_index)+1\n",
        "\n",
        "print(tokenizer.word_index)\n",
        "print(total_words)"
      ]
    },
    {
      "cell_type": "code",
      "execution_count": 7,
      "metadata": {
        "id": "QFO29SdahAu8"
      },
      "outputs": [],
      "source": [
        "token_list = tokenizer.texts_to_sequences([data])[0]\n",
        "reverse_word_map = dict(map(reversed, tokenizer.word_index.items()))  # index → word mapping\n",
        "\n",
        "input_seq = []\n",
        "for i in range(1, len(token_list)):\n",
        "    n_gram_sequence = token_list[max(0, i-5):i+1]\n",
        "    # words = [reverse_word_map[idx] for idx in n_gram_sequence]  # convert indices to words\n",
        "    # print(words)  # print the actual words\n",
        "    input_seq.append(n_gram_sequence)\n"
      ]
    },
    {
      "cell_type": "code",
      "execution_count": 8,
      "metadata": {},
      "outputs": [],
      "source": [
        "import pickle\n",
        "\n",
        "# save the tokenizer to a file\n",
        "with open(\"tokenizer.pkl\", \"wb\") as f:\n",
        "    pickle.dump(tokenizer, f)\n"
      ]
    },
    {
      "cell_type": "code",
      "execution_count": 9,
      "metadata": {
        "id": "pSlLkvNFli5I"
      },
      "outputs": [],
      "source": [
        "import pickle\n",
        "\n",
        "# save the tokenizer to a file\n",
        "with open(\"tokenizer.pkl\", \"wb\") as f:\n",
        "    pickle.dump(tokenizer, f)"
      ]
    },
    {
      "cell_type": "code",
      "execution_count": 10,
      "metadata": {
        "id": "cnHSUwXd7GS-"
      },
      "outputs": [],
      "source": [
        "from tensorflow.keras.utils import pad_sequences"
      ]
    },
    {
      "cell_type": "code",
      "execution_count": 11,
      "metadata": {
        "id": "RZHm8KFXnWBG"
      },
      "outputs": [],
      "source": [
        "# pad sequence\n",
        "max_seq_len=max([len(x) for x in input_seq])\n",
        "input_sequences = np.array(pad_sequences(input_seq, maxlen=max_seq_len,padding='pre'))"
      ]
    },
    {
      "cell_type": "code",
      "execution_count": 12,
      "metadata": {
        "colab": {
          "base_uri": "https://localhost:8080/"
        },
        "id": "SM8jeFcIhgfF",
        "outputId": "23d3d4b5-a54d-4869-8ef5-49321525e31d"
      },
      "outputs": [
        {
          "data": {
            "text/plain": [
              "6"
            ]
          },
          "execution_count": 12,
          "metadata": {},
          "output_type": "execute_result"
        }
      ],
      "source": [
        "max_seq_len"
      ]
    },
    {
      "cell_type": "code",
      "execution_count": 13,
      "metadata": {
        "colab": {
          "base_uri": "https://localhost:8080/"
        },
        "id": "PaIbSgUB709f",
        "outputId": "63a6896f-4d6d-4f6e-d697-788fe1164464"
      },
      "outputs": [
        {
          "name": "stdout",
          "output_type": "stream",
          "text": [
            "[[ 0  0  0  0  7 44]\n",
            " [ 0  0  0  7 44  2]\n",
            " [ 0  0  7 44  2 48]\n",
            " ...\n",
            " [20 21 22 23 24  1]\n",
            " [21 22 23 24  1 25]\n",
            " [22 23 24  1 25  6]]\n"
          ]
        }
      ],
      "source": [
        "print(input_sequences)"
      ]
    },
    {
      "cell_type": "code",
      "execution_count": 14,
      "metadata": {
        "id": "VQ7rFqW-nV-G"
      },
      "outputs": [],
      "source": [
        "X,labels=input_sequences[:,:-1],input_sequences[:,-1:]\n",
        "\n",
        "y=tf.keras.utils.to_categorical(labels,num_classes=total_words)"
      ]
    },
    {
      "cell_type": "code",
      "execution_count": 15,
      "metadata": {
        "colab": {
          "base_uri": "https://localhost:8080/"
        },
        "id": "ueAYLZL1nV7T",
        "outputId": "b23ee502-e46f-4e91-ed62-3ceecf60d9ea"
      },
      "outputs": [
        {
          "data": {
            "text/plain": [
              "array([[0., 0., 0., ..., 0., 0., 0.],\n",
              "       [0., 0., 1., ..., 0., 0., 0.],\n",
              "       [0., 0., 0., ..., 0., 0., 0.],\n",
              "       ...,\n",
              "       [0., 1., 0., ..., 0., 0., 0.],\n",
              "       [0., 0., 0., ..., 0., 0., 0.],\n",
              "       [0., 0., 0., ..., 0., 0., 0.]], dtype=float32)"
            ]
          },
          "execution_count": 15,
          "metadata": {},
          "output_type": "execute_result"
        }
      ],
      "source": [
        "y"
      ]
    },
    {
      "cell_type": "markdown",
      "metadata": {
        "id": "m3-TOEviCoTI"
      },
      "source": [
        "Model creation"
      ]
    },
    {
      "cell_type": "code",
      "execution_count": 16,
      "metadata": {
        "id": "-HCxLKNoiVfJ"
      },
      "outputs": [],
      "source": [
        "# Define early stopping\n",
        "from tensorflow.keras.callbacks import EarlyStopping\n",
        "early_stopping = EarlyStopping(monitor='val_loss', patience=20,min_delta=0.0001, restore_best_weights=True)"
      ]
    },
    {
      "cell_type": "code",
      "execution_count": 17,
      "metadata": {
        "colab": {
          "base_uri": "https://localhost:8080/",
          "height": 341
        },
        "id": "12VhZx7PnV4j",
        "outputId": "e3b68885-553d-4706-96e6-84865dce8d70"
      },
      "outputs": [
        {
          "name": "stdout",
          "output_type": "stream",
          "text": [
            "WARNING:tensorflow:From c:\\Users\\HP\\AppData\\Local\\Programs\\Python\\Python311\\Lib\\site-packages\\keras\\src\\backend.py:873: The name tf.get_default_graph is deprecated. Please use tf.compat.v1.get_default_graph instead.\n",
            "\n",
            "WARNING:tensorflow:From c:\\Users\\HP\\AppData\\Local\\Programs\\Python\\Python311\\Lib\\site-packages\\keras\\src\\optimizers\\__init__.py:309: The name tf.train.Optimizer is deprecated. Please use tf.compat.v1.train.Optimizer instead.\n",
            "\n",
            "Model: \"sequential\"\n",
            "_________________________________________________________________\n",
            " Layer (type)                Output Shape              Param #   \n",
            "=================================================================\n",
            " embedding (Embedding)       (None, 5, 100)            13400     \n",
            "                                                                 \n",
            " bidirectional (Bidirection  (None, 5, 40)             19360     \n",
            " al)                                                             \n",
            "                                                                 \n",
            " dropout (Dropout)           (None, 5, 40)             0         \n",
            "                                                                 \n",
            " lstm_1 (LSTM)               (None, 100)               56400     \n",
            "                                                                 \n",
            " dense (Dense)               (None, 134)               13534     \n",
            "                                                                 \n",
            "=================================================================\n",
            "Total params: 102694 (401.15 KB)\n",
            "Trainable params: 102694 (401.15 KB)\n",
            "Non-trainable params: 0 (0.00 Byte)\n",
            "_________________________________________________________________\n",
            "None\n"
          ]
        }
      ],
      "source": [
        "model=Sequential()\n",
        "model.add(Embedding(total_words,100,input_length=max_seq_len-1))\n",
        "model.add(Bidirectional(LSTM(20,return_sequences=True)))\n",
        "model.add(Dropout(0.1))\n",
        "model.add(LSTM(100))\n",
        "model.add(Dense(total_words,activation='softmax'))\n",
        "model.compile(loss='categorical_crossentropy',optimizer='adam',metrics=['accuracy'])\n",
        "print(model.summary())"
      ]
    },
    {
      "cell_type": "code",
      "execution_count": 18,
      "metadata": {
        "colab": {
          "base_uri": "https://localhost:8080/"
        },
        "collapsed": true,
        "id": "A5zJkch4FZ3L",
        "outputId": "05b3463f-63d7-45b8-b427-38b18be0bf6d"
      },
      "outputs": [
        {
          "name": "stdout",
          "output_type": "stream",
          "text": [
            "Epoch 1/80\n",
            "WARNING:tensorflow:From c:\\Users\\HP\\AppData\\Local\\Programs\\Python\\Python311\\Lib\\site-packages\\keras\\src\\utils\\tf_utils.py:492: The name tf.ragged.RaggedTensorValue is deprecated. Please use tf.compat.v1.ragged.RaggedTensorValue instead.\n",
            "\n",
            "WARNING:tensorflow:From c:\\Users\\HP\\AppData\\Local\\Programs\\Python\\Python311\\Lib\\site-packages\\keras\\src\\engine\\base_layer_utils.py:384: The name tf.executing_eagerly_outside_functions is deprecated. Please use tf.compat.v1.executing_eagerly_outside_functions instead.\n",
            "\n",
            "11/11 [==============================] - 21s 33ms/step - loss: 4.8945 - accuracy: 0.0455\n",
            "Epoch 2/80\n",
            "11/11 [==============================] - 0s 25ms/step - loss: 4.8761 - accuracy: 0.0597\n",
            "Epoch 3/80\n",
            "11/11 [==============================] - 0s 22ms/step - loss: 4.8226 - accuracy: 0.0767\n",
            "Epoch 4/80\n",
            "11/11 [==============================] - 0s 24ms/step - loss: 4.6034 - accuracy: 0.0455\n",
            "Epoch 5/80\n",
            "11/11 [==============================] - 0s 27ms/step - loss: 4.3921 - accuracy: 0.0682\n",
            "Epoch 6/80\n",
            "11/11 [==============================] - 0s 25ms/step - loss: 4.2548 - accuracy: 0.0682\n",
            "Epoch 7/80\n",
            "11/11 [==============================] - 0s 24ms/step - loss: 4.1304 - accuracy: 0.0625\n",
            "Epoch 8/80\n",
            "11/11 [==============================] - 0s 28ms/step - loss: 3.9713 - accuracy: 0.1023\n",
            "Epoch 9/80\n",
            "11/11 [==============================] - 0s 25ms/step - loss: 3.7533 - accuracy: 0.1364\n",
            "Epoch 10/80\n",
            "11/11 [==============================] - 0s 26ms/step - loss: 3.5255 - accuracy: 0.1477\n",
            "Epoch 11/80\n",
            "11/11 [==============================] - 0s 23ms/step - loss: 3.3066 - accuracy: 0.2188\n",
            "Epoch 12/80\n",
            "11/11 [==============================] - 0s 24ms/step - loss: 3.1008 - accuracy: 0.2358\n",
            "Epoch 13/80\n",
            "11/11 [==============================] - 0s 23ms/step - loss: 2.9138 - accuracy: 0.3011\n",
            "Epoch 14/80\n",
            "11/11 [==============================] - 1s 51ms/step - loss: 2.7475 - accuracy: 0.3693\n",
            "Epoch 15/80\n",
            "11/11 [==============================] - 0s 21ms/step - loss: 2.6050 - accuracy: 0.4375\n",
            "Epoch 16/80\n",
            "11/11 [==============================] - 0s 23ms/step - loss: 2.4660 - accuracy: 0.4943\n",
            "Epoch 17/80\n",
            "11/11 [==============================] - 0s 27ms/step - loss: 2.3269 - accuracy: 0.5000\n",
            "Epoch 18/80\n",
            "11/11 [==============================] - 0s 27ms/step - loss: 2.2218 - accuracy: 0.5085\n",
            "Epoch 19/80\n",
            "11/11 [==============================] - 0s 22ms/step - loss: 2.1026 - accuracy: 0.5540\n",
            "Epoch 20/80\n",
            "11/11 [==============================] - 0s 22ms/step - loss: 1.9785 - accuracy: 0.5653\n",
            "Epoch 21/80\n",
            "11/11 [==============================] - 0s 22ms/step - loss: 1.8836 - accuracy: 0.5824\n",
            "Epoch 22/80\n",
            "11/11 [==============================] - 0s 22ms/step - loss: 1.7711 - accuracy: 0.6420\n",
            "Epoch 23/80\n",
            "11/11 [==============================] - 0s 24ms/step - loss: 1.6981 - accuracy: 0.6449\n",
            "Epoch 24/80\n",
            "11/11 [==============================] - 0s 22ms/step - loss: 1.5947 - accuracy: 0.6761\n",
            "Epoch 25/80\n",
            "11/11 [==============================] - 0s 23ms/step - loss: 1.5079 - accuracy: 0.6989\n",
            "Epoch 26/80\n",
            "11/11 [==============================] - 0s 22ms/step - loss: 1.4438 - accuracy: 0.7131\n",
            "Epoch 27/80\n",
            "11/11 [==============================] - 0s 27ms/step - loss: 1.3860 - accuracy: 0.7074\n",
            "Epoch 28/80\n",
            "11/11 [==============================] - 0s 25ms/step - loss: 1.3121 - accuracy: 0.7415\n",
            "Epoch 29/80\n",
            "11/11 [==============================] - 0s 23ms/step - loss: 1.2394 - accuracy: 0.7472\n",
            "Epoch 30/80\n",
            "11/11 [==============================] - 0s 27ms/step - loss: 1.1682 - accuracy: 0.7670\n",
            "Epoch 31/80\n",
            "11/11 [==============================] - 0s 40ms/step - loss: 1.1144 - accuracy: 0.7841\n",
            "Epoch 32/80\n",
            "11/11 [==============================] - 0s 39ms/step - loss: 1.0447 - accuracy: 0.8153\n",
            "Epoch 33/80\n",
            "11/11 [==============================] - 0s 36ms/step - loss: 0.9792 - accuracy: 0.8295\n",
            "Epoch 34/80\n",
            "11/11 [==============================] - 0s 25ms/step - loss: 0.9245 - accuracy: 0.8295\n",
            "Epoch 35/80\n",
            "11/11 [==============================] - 0s 26ms/step - loss: 0.8704 - accuracy: 0.8551\n",
            "Epoch 36/80\n",
            "11/11 [==============================] - 0s 24ms/step - loss: 0.8177 - accuracy: 0.8807\n",
            "Epoch 37/80\n",
            "11/11 [==============================] - 0s 22ms/step - loss: 0.7775 - accuracy: 0.8892\n",
            "Epoch 38/80\n",
            "11/11 [==============================] - 0s 18ms/step - loss: 0.7342 - accuracy: 0.8920\n",
            "Epoch 39/80\n",
            "11/11 [==============================] - 0s 20ms/step - loss: 0.6864 - accuracy: 0.9034\n",
            "Epoch 40/80\n",
            "11/11 [==============================] - 0s 22ms/step - loss: 0.6640 - accuracy: 0.9034\n",
            "Epoch 41/80\n",
            "11/11 [==============================] - 0s 20ms/step - loss: 0.6472 - accuracy: 0.8977\n",
            "Epoch 42/80\n",
            "11/11 [==============================] - 0s 19ms/step - loss: 0.6135 - accuracy: 0.9148\n",
            "Epoch 43/80\n",
            "11/11 [==============================] - 0s 20ms/step - loss: 0.5829 - accuracy: 0.9148\n",
            "Epoch 44/80\n",
            "11/11 [==============================] - 0s 22ms/step - loss: 0.5525 - accuracy: 0.9205\n",
            "Epoch 45/80\n",
            "11/11 [==============================] - 0s 22ms/step - loss: 0.5293 - accuracy: 0.9347\n",
            "Epoch 46/80\n",
            "11/11 [==============================] - 0s 21ms/step - loss: 0.5008 - accuracy: 0.9403\n",
            "Epoch 47/80\n",
            "11/11 [==============================] - 0s 23ms/step - loss: 0.4568 - accuracy: 0.9460\n",
            "Epoch 48/80\n",
            "11/11 [==============================] - 0s 18ms/step - loss: 0.4340 - accuracy: 0.9631\n",
            "Epoch 49/80\n",
            "11/11 [==============================] - 0s 21ms/step - loss: 0.4116 - accuracy: 0.9545\n",
            "Epoch 50/80\n",
            "11/11 [==============================] - 0s 19ms/step - loss: 0.3939 - accuracy: 0.9545\n",
            "Epoch 51/80\n",
            "11/11 [==============================] - 0s 21ms/step - loss: 0.3849 - accuracy: 0.9602\n",
            "Epoch 52/80\n",
            "11/11 [==============================] - 0s 20ms/step - loss: 0.3648 - accuracy: 0.9602\n",
            "Epoch 53/80\n",
            "11/11 [==============================] - 0s 20ms/step - loss: 0.3516 - accuracy: 0.9574\n",
            "Epoch 54/80\n",
            "11/11 [==============================] - 0s 16ms/step - loss: 0.3370 - accuracy: 0.9545\n",
            "Epoch 55/80\n",
            "11/11 [==============================] - 0s 22ms/step - loss: 0.3256 - accuracy: 0.9545\n",
            "Epoch 56/80\n",
            "11/11 [==============================] - 0s 20ms/step - loss: 0.3233 - accuracy: 0.9631\n",
            "Epoch 57/80\n",
            "11/11 [==============================] - 0s 24ms/step - loss: 0.3121 - accuracy: 0.9688\n",
            "Epoch 58/80\n",
            "11/11 [==============================] - 0s 22ms/step - loss: 0.2862 - accuracy: 0.9688\n",
            "Epoch 59/80\n",
            "11/11 [==============================] - 0s 17ms/step - loss: 0.2802 - accuracy: 0.9688\n",
            "Epoch 60/80\n",
            "11/11 [==============================] - 0s 20ms/step - loss: 0.2669 - accuracy: 0.9631\n",
            "Epoch 61/80\n",
            "11/11 [==============================] - 0s 19ms/step - loss: 0.2675 - accuracy: 0.9631\n",
            "Epoch 62/80\n",
            "11/11 [==============================] - 0s 18ms/step - loss: 0.2588 - accuracy: 0.9716\n",
            "Epoch 63/80\n",
            "11/11 [==============================] - 0s 18ms/step - loss: 0.2499 - accuracy: 0.9631\n",
            "Epoch 64/80\n",
            "11/11 [==============================] - 0s 16ms/step - loss: 0.2559 - accuracy: 0.9659\n",
            "Epoch 65/80\n",
            "11/11 [==============================] - 0s 20ms/step - loss: 0.2368 - accuracy: 0.9659\n",
            "Epoch 66/80\n",
            "11/11 [==============================] - 0s 18ms/step - loss: 0.2296 - accuracy: 0.9716\n",
            "Epoch 67/80\n",
            "11/11 [==============================] - 0s 21ms/step - loss: 0.2246 - accuracy: 0.9659\n",
            "Epoch 68/80\n",
            "11/11 [==============================] - 0s 20ms/step - loss: 0.2159 - accuracy: 0.9716\n",
            "Epoch 69/80\n",
            "11/11 [==============================] - 0s 27ms/step - loss: 0.2071 - accuracy: 0.9716\n",
            "Epoch 70/80\n",
            "11/11 [==============================] - 0s 37ms/step - loss: 0.2005 - accuracy: 0.9688\n",
            "Epoch 71/80\n",
            "11/11 [==============================] - 0s 22ms/step - loss: 0.1961 - accuracy: 0.9716\n",
            "Epoch 72/80\n",
            "11/11 [==============================] - 0s 19ms/step - loss: 0.1905 - accuracy: 0.9716\n",
            "Epoch 73/80\n",
            "11/11 [==============================] - 0s 20ms/step - loss: 0.1878 - accuracy: 0.9744\n",
            "Epoch 74/80\n",
            "11/11 [==============================] - 0s 19ms/step - loss: 0.1809 - accuracy: 0.9688\n",
            "Epoch 75/80\n",
            "11/11 [==============================] - 0s 18ms/step - loss: 0.1821 - accuracy: 0.9688\n",
            "Epoch 76/80\n",
            "11/11 [==============================] - 0s 20ms/step - loss: 0.1775 - accuracy: 0.9716\n",
            "Epoch 77/80\n",
            "11/11 [==============================] - 0s 18ms/step - loss: 0.1720 - accuracy: 0.9716\n",
            "Epoch 78/80\n",
            "11/11 [==============================] - 0s 18ms/step - loss: 0.1652 - accuracy: 0.9688\n",
            "Epoch 79/80\n",
            "11/11 [==============================] - 0s 23ms/step - loss: 0.1645 - accuracy: 0.9716\n",
            "Epoch 80/80\n",
            "11/11 [==============================] - 0s 18ms/step - loss: 0.1618 - accuracy: 0.9716\n"
          ]
        }
      ],
      "source": [
        "history=model.fit(X,y,epochs=80,verbose=1)"
      ]
    },
    {
      "cell_type": "code",
      "execution_count": 19,
      "metadata": {
        "id": "4r8KG6__G6Xg"
      },
      "outputs": [],
      "source": [
        "import matplotlib.pyplot as plt\n",
        "\n",
        "def plot_graphs(history, string):\n",
        "  plt.plot(history.history[string])\n",
        "  plt.xlabel(\"Epochs\")\n",
        "  plt.ylabel(string)\n",
        "  plt.show()"
      ]
    },
    {
      "cell_type": "code",
      "execution_count": 20,
      "metadata": {
        "colab": {
          "base_uri": "https://localhost:8080/",
          "height": 455
        },
        "id": "l8mfs1Q7G6SD",
        "outputId": "e80325b7-3882-452a-f72c-cc4547a5a78c"
      },
      "outputs": [
        {
          "data": {
            "image/png": "[encoded data removed]",
            "text/plain": [
              "<Figure size 640x480 with 1 Axes>"
            ]
          },
          "metadata": {},
          "output_type": "display_data"
        }
      ],
      "source": [
        "plot_graphs(history,'accuracy')"
      ]
    },
    {
      "cell_type": "markdown",
      "metadata": {
        "id": "FPHcYycyHpDh"
      },
      "source": [
        "prediction"
      ]
    },
    {
      "cell_type": "code",
      "execution_count": 21,
      "metadata": {
        "id": "ltQz6PwjvNmP"
      },
      "outputs": [],
      "source": [
        "model.save(\"lyrics_saphire.keras\")"
      ]
    },
    {
      "cell_type": "code",
      "execution_count": 22,
      "metadata": {
        "id": "wWGhDjYNHsOU"
      },
      "outputs": [],
      "source": [
        "def wordpred(seed_text,next_word):\n",
        "  for _ in range(next_word):\n",
        "    token_list=tokenizer.texts_to_sequences([seed_text])[0]\n",
        "    token_list=pad_sequences([token_list],maxlen=max_seq_len-1,padding='pre')\n",
        "    predicted=np.argmax(model.predict(token_list,verbose=0))\n",
        "    output_word=\"\"\n",
        "    for word, index in tokenizer.word_index.items():\n",
        "      if index==predicted:\n",
        "        output_word=word\n",
        "        break\n",
        "    seed_text+=\" \"+output_word\n",
        "  print(seed_text)"
      ]
    },
    {
      "cell_type": "code",
      "execution_count": 25,
      "metadata": {
        "colab": {
          "base_uri": "https://localhost:8080/"
        },
        "id": "vYTXP78dHsWE",
        "outputId": "e4150d04-be22-4124-d63b-d2e546421bed"
      },
      "outputs": [
        {
          "name": "stdout",
          "output_type": "stream",
          "text": [
            "pushing on your body you’re on pushing on me don’t the lights your face\n"
          ]
        }
      ],
      "source": [
        "wordpred(\"pushing on your body\",10)"
      ]
    }
  ],
  "metadata": {
    "colab": {
      "provenance": []
    },
    "kernelspec": {
      "display_name": "Python 3",
      "language": "python",
      "name": "python3"
    },
    "language_info": {
      "codemirror_mode": {
        "name": "ipython",
        "version": 3
      },
      "file_extension": ".py",
      "mimetype": "text/x-python",
      "name": "python",
      "nbconvert_exporter": "python",
      "pygments_lexer": "ipython3",
      "version": "3.11.0"
    }
  },
  "nbformat": 4,
  "nbformat_minor": 0
}
